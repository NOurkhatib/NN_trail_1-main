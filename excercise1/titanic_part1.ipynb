{
 "cells": [
  {
   "cell_type": "markdown",
   "metadata": {},
   "source": [
    "**https://www.kaggle.com/code/jamesleslie/titanic-eda-wrangling-imputation/notebook**"
   ]
  },
  {
   "cell_type": "code",
   "execution_count": null,
   "metadata": {},
   "outputs": [],
   "source": [
    "import numpy as np\n",
    "import pandas as pd\n",
    "import seaborn as sns\n",
    "import matplotlib.pyplot as plt\n",
    "from matplotlib.pyplot import rcParams\n",
    "import os\n",
    "from sklearn.model_selection import train_test_split\n",
    "from sklearn.model_selection import GridSearchCV, cross_val_score\n",
    "from sklearn.ensemble import RandomForestClassifier\n",
    "from sklearn.metrics import accuracy_score, f1_score, precision_score, recall_score\n",
    "\n",
    "%matplotlib inline\n",
    "rcParams['figure.figsize'] = 10,8\n",
    "sns.set(style='whitegrid', palette='muted',\n",
    "        rc={'figure.figsize': (12,8)})\n",
    "\n",
    "# Input data files are available in the \"../input/\" directory.\n",
    "# For example, running this (by clicking run or pressing Shift+Enter) will list the files in the input directory\n",
    "# print(os.listdir(\"../input\"))"
   ]
  },
  {
   "cell_type": "code",
   "execution_count": null,
   "metadata": {},
   "outputs": [],
   "source": [
    "train = pd.read_csv('./data/train.csv', )\n",
    "test = pd.read_csv('./data/test.csv')\n",
    "df = pd.concat([train, test], axis=0, sort=True)"
   ]
  },
  {
   "cell_type": "code",
   "execution_count": null,
   "metadata": {},
   "outputs": [],
   "source": [
    "df.head()"
   ]
  },
  {
   "cell_type": "code",
   "execution_count": null,
   "metadata": {},
   "outputs": [],
   "source": [
    "def display_all(df):\n",
    "    with pd.option_context(\"display.max_rows\", 1000, \"display.max_columns\", 1000): \n",
    "        display(df)\n",
    "\n",
    "display_all(df.describe(include='all').T)"
   ]
  },
  {
   "cell_type": "code",
   "execution_count": null,
   "metadata": {},
   "outputs": [],
   "source": [
    "print(df['Survived'])\n",
    "print(df.Name)"
   ]
  },
  {
   "cell_type": "code",
   "execution_count": null,
   "metadata": {},
   "outputs": [],
   "source": [
    "df['Survived'].value_counts()"
   ]
  },
  {
   "cell_type": "markdown",
   "metadata": {},
   "source": [
    "**Extract title from name**\n",
    " <br>\n",
    "A simple option for the missing age values is to use the median age value. Let's go a little further and use each passenger's Title to estimate their age. E.g. if a passenger has the title of Dr, I will give them the median age value for all other passengers with the same title."
   ]
  },
  {
   "cell_type": "markdown",
   "metadata": {},
   "source": [
    "**2.1. Impute missing age values**\n",
    " <br>\n",
    "We can use a regular expression to extract the title from the Name column. We will do this by finding the adjacent letters that are immediately followed by a full stop."
   ]
  },
  {
   "cell_type": "code",
   "execution_count": null,
   "metadata": {},
   "outputs": [],
   "source": [
    "df['Title'] = df['Name'].str.extract('([A-Za-z]+)\\.', expand=True)\n",
    "df['Title'].value_counts()"
   ]
  },
  {
   "cell_type": "code",
   "execution_count": null,
   "metadata": {},
   "outputs": [],
   "source": [
    "# replace rare titles with more common ones\n",
    "mapping = {'Mlle': 'Miss', 'Major': 'Mr', 'Col': 'Mr', 'Sir': 'Mr',\n",
    "           'Don': 'Mr', 'Mme': 'Mrs', 'Jonkheer': 'Mr', 'Lady': 'Mrs',\n",
    "           'Capt': 'Mr', 'Countess': 'Mrs', 'Ms': 'Miss', 'Dona': 'Mrs'}\n",
    "df.replace({'Title': mapping}, inplace=True)\n",
    "df['Title'].value_counts()"
   ]
  },
  {
   "cell_type": "markdown",
   "metadata": {},
   "source": [
    "**Use median of title group** \n",
    "<br>\n",
    "Now, for each missing age value, we will impute the age using the median age for all people with the same title."
   ]
  },
  {
   "cell_type": "code",
   "execution_count": null,
   "metadata": {},
   "outputs": [],
   "source": [
    "# impute missing Age values using median of Title groups\n",
    "title_ages = dict(df.groupby('Title')['Age'].median())\n",
    "\n",
    "# create a column of the average ages\n",
    "df['age_med'] = df['Title'].apply(lambda x: title_ages[x])\n",
    "\n",
    "# replace all missing ages with the value in this column\n",
    "df['Age'].fillna(df['age_med'], inplace=True, )\n",
    "del df['age_med']"
   ]
  },
  {
   "cell_type": "code",
   "execution_count": null,
   "metadata": {},
   "outputs": [],
   "source": [
    "print(len(title_ages))\n",
    "print(title_ages)\n",
    "print(type(title_ages))"
   ]
  },
  {
   "cell_type": "markdown",
   "metadata": {},
   "source": [
    "<p>We can visualize the median ages for each title group. Below, we see that each title has a distinctly different median age.</p>\n",
    "\n",
    "<blockquote><p><strong>Note</strong>: There is no risk in doing this after imputation, as the median of an age group has not been affected by our actions.</p>\n",
    "</blockquote>"
   ]
  },
  {
   "cell_type": "code",
   "execution_count": null,
   "metadata": {},
   "outputs": [],
   "source": [
    "sns.barplot(x='Title', y='Age', data=df, estimator=np.median, ci=None, palette='Blues_d')\n",
    "plt.xticks(rotation=45)\n",
    "plt.show()"
   ]
  },
  {
   "cell_type": "code",
   "execution_count": null,
   "metadata": {},
   "outputs": [],
   "source": [
    "sns.countplot(x='Title', data=df, palette='hls', hue='Survived')\n",
    "plt.xticks(rotation=45)\n",
    "plt.show()"
   ]
  },
  {
   "cell_type": "markdown",
   "metadata": {},
   "source": [
    "<h2 id=\"2.2.-Impute-missing-fare-values\">2.2. Impute missing fare values<a class=\"anchor-link\" href=\"https://www.kaggle.com/code/jamesleslie/titanic-eda-wrangling-imputation/notebook#2.2.-Impute-missing-fare-values\" target=\"_self\" rel=\" noreferrer nofollow\">¶</a></h2>\n",
    "<!-- <br> -->\n",
    "<p>For the single missing fare value, I also use the median fare value for the passenger's class.</p>\n",
    "<!-- <br> -->\n",
    "<blockquote><p>Perhaps you could come up with a cooler way of visualising the relationship between the price a passenger paid for their ticket and their chances of survival?</p>\n",
    "</blockquote>"
   ]
  },
  {
   "cell_type": "code",
   "execution_count": null,
   "metadata": {},
   "outputs": [],
   "source": [
    "dff = df[['Sex', 'Survived', 'Fare']]\n"
   ]
  },
  {
   "cell_type": "code",
   "execution_count": null,
   "metadata": {},
   "outputs": [],
   "source": [
    "# dff.astype({'Fare': 'int64'}).dtypes\n",
    "# dff"
   ]
  },
  {
   "cell_type": "markdown",
   "metadata": {},
   "source": [
    "**Use median of title group** \n",
    "<br>\n",
    "Now, for each missing age value, we will impute the age using the median age for all people with the same title."
   ]
  },
  {
   "cell_type": "code",
   "execution_count": null,
   "metadata": {},
   "outputs": [],
   "source": [
    "\n",
    "# impute missing Age values using median of Title groups\n",
    "title_ages = dict(df.groupby('Title')['Age'].median())\n",
    "\n",
    "# create a column of the average ages\n",
    "df['age_med'] = df['Title'].apply(lambda x: title_ages[x])\n",
    "\n",
    "# replace all missing ages with the value in this column\n",
    "df['Age'].fillna(df['age_med'], inplace=True, )\n",
    "del df['age_med']"
   ]
  },
  {
   "cell_type": "code",
   "execution_count": null,
   "metadata": {},
   "outputs": [],
   "source": [
    "\n",
    "# drr = df.drop(axis=0, index=152)\n",
    "# print(drr['Fare'].isna().sum())\n",
    "# print(drr[df['Fare'].isnull()].index.tolist())\n",
    "\n",
    "\n",
    "# df.drop(axis=0, index=152)\n",
    "# print(df['Fare'].isna().sum())\n",
    "# print(df[df['Fare'].isnull()].index.tolist())\n",
    "# print(drr['Fare'][152])\n",
    "# print(df[['Sex','Fare' ,'Survived']][150:155])\n",
    "# print(drr[['Sex','Fare' ,'Survived']][150:155])"
   ]
  },
  {
   "cell_type": "code",
   "execution_count": null,
   "metadata": {},
   "outputs": [],
   "source": [
    "# impute missing Fare values using median of Pclass groups\n",
    "class_fares = dict(df.groupby('Pclass')['Fare'].median())\n",
    "\n",
    "# create a column of the average fares\n",
    "df['fare_med'] = df['Pclass'].apply(lambda x: class_fares[x])\n",
    "\n",
    "# replace all missing fares with the value in this column\n",
    "df['Fare'].fillna(df['fare_med'], inplace=True, )\n",
    "del df['fare_med']"
   ]
  },
  {
   "cell_type": "code",
   "execution_count": null,
   "metadata": {},
   "outputs": [],
   "source": [
    "sns.swarmplot(x='Sex',y='Fare' ,hue='Survived',s = 2, data=df)\n",
    "plt.figure(figsize=(4, 4))\n",
    "plt.show()"
   ]
  },
  {
   "cell_type": "code",
   "execution_count": null,
   "metadata": {},
   "outputs": [],
   "source": [
    "drr = df.astype({'Fare': 'int32'})\n"
   ]
  },
  {
   "cell_type": "markdown",
   "metadata": {},
   "source": [
    "<h2 id=\"2.3.-Impute-missing-&quot;embarked&quot;-value\">2.3. Impute missing \"embarked\" value<a class=\"anchor-link\" href=\"https://www.kaggle.com/code/jamesleslie/titanic-eda-wrangling-imputation/notebook#2.3.-Impute-missing-%22embarked%22-value\" target=\"_self\" rel=\" noreferrer nofollow\">¶</a></h2>\n",
    "<p>There are also just two missing values in the <code>Embarked</code> column. Here we will just use the Pandas 'backfill' method.</p>"
   ]
  },
  {
   "cell_type": "code",
   "execution_count": null,
   "metadata": {},
   "outputs": [],
   "source": [
    "sns.catplot(x='Embarked', y='Survived', data=df,\n",
    "            kind='bar', palette='muted', errorbar=None)\n",
    "plt.show()"
   ]
  },
  {
   "cell_type": "code",
   "execution_count": null,
   "metadata": {},
   "outputs": [],
   "source": [
    "df['Embarked'].fillna(method='backfill', inplace=False)\n",
    "df.Embarked.unique()"
   ]
  },
  {
   "cell_type": "code",
   "execution_count": null,
   "metadata": {},
   "outputs": [],
   "source": [
    "df.columns"
   ]
  },
  {
   "cell_type": "markdown",
   "metadata": {},
   "source": [
    "<h1 id=\"3.-Add-family-size-column\">3. Add family size column<a class=\"anchor-link\" href=\"https://www.kaggle.com/code/jamesleslie/titanic-eda-wrangling-imputation/notebook#3.-Add-family-size-column\" target=\"_self\" rel=\" noreferrer nofollow\">¶</a></h1>\n",
    "<p>We can use the two variables of <strong>Parch</strong> and <strong>SibSp</strong> to create a new variable called <strong>Family_Size</strong>. This is simply done by adding <code>Parch</code> and <code>SibSp</code> together.</p>"
   ]
  },
  {
   "cell_type": "code",
   "execution_count": null,
   "metadata": {},
   "outputs": [],
   "source": [
    "# create Family_Size column (Parch +)\n",
    "df['Family_Size'] = df['Parch'] + df['SibSp']\n"
   ]
  },
  {
   "cell_type": "code",
   "execution_count": null,
   "metadata": {},
   "outputs": [],
   "source": [
    "display_all(df.describe(include='all').T)"
   ]
  },
  {
   "cell_type": "markdown",
   "metadata": {},
   "source": [
    "<h1 id=\"4.-Save-cleaned-version\">4. Save cleaned version<a class=\"anchor-link\" href=\"https://www.kaggle.com/code/jamesleslie/titanic-eda-wrangling-imputation/notebook#4.-Save-cleaned-version\" target=\"_self\" rel=\" noreferrer nofollow\">¶</a></h1><p>Finally, let's save our cleaned data set so we can use it in other notebooks.</p>"
   ]
  },
  {
   "cell_type": "code",
   "execution_count": null,
   "metadata": {},
   "outputs": [],
   "source": [
    "# train = df[pd.notnull(df['Survived'])]\n",
    "# test = df[pd.isnull(df['Survived'])]"
   ]
  },
  {
   "cell_type": "code",
   "execution_count": null,
   "metadata": {},
   "outputs": [],
   "source": [
    "# train.to_csv('./data/train_clean.csv', index=False)\n",
    "# test.to_csv('./data/test_clean.csv', index=False)"
   ]
  },
  {
   "cell_type": "code",
   "execution_count": null,
   "metadata": {},
   "outputs": [],
   "source": []
  }
 ],
 "metadata": {
  "kernelspec": {
   "display_name": "tf",
   "language": "python",
   "name": "python3"
  },
  "language_info": {
   "codemirror_mode": {
    "name": "ipython",
    "version": 3
   },
   "file_extension": ".py",
   "mimetype": "text/x-python",
   "name": "python",
   "nbconvert_exporter": "python",
   "pygments_lexer": "ipython3",
   "version": "3.9.18"
  },
  "orig_nbformat": 4
 },
 "nbformat": 4,
 "nbformat_minor": 2
}
